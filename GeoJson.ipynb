{
 "cells": [
  {
   "cell_type": "code",
   "execution_count": 87,
   "metadata": {},
   "outputs": [],
   "source": [
    "import pandas as pd\n",
    "import plotly.express as px\n",
    "import folium\n",
    "from folium import plugins\n",
    "from folium.plugins import MarkerCluster\n",
    "folium.plugins.MarkerCluster()\n",
    "import json\n",
    "from geojson import Feature, Point, FeatureCollection"
   ]
  },
  {
   "cell_type": "code",
   "execution_count": 88,
   "metadata": {},
   "outputs": [],
   "source": [
    "df = pd.read_excel('location_rating_with_lat_long_for_BNB.xlsx')"
   ]
  },
  {
   "cell_type": "code",
   "execution_count": 89,
   "metadata": {},
   "outputs": [
    {
     "data": {
      "text/html": [
       "<div>\n",
       "<style scoped>\n",
       "    .dataframe tbody tr th:only-of-type {\n",
       "        vertical-align: middle;\n",
       "    }\n",
       "\n",
       "    .dataframe tbody tr th {\n",
       "        vertical-align: top;\n",
       "    }\n",
       "\n",
       "    .dataframe thead th {\n",
       "        text-align: right;\n",
       "    }\n",
       "</style>\n",
       "<table border=\"1\" class=\"dataframe\">\n",
       "  <thead>\n",
       "    <tr style=\"text-align: right;\">\n",
       "      <th></th>\n",
       "      <th>vendor</th>\n",
       "      <th>hotel_id</th>\n",
       "      <th>city_name</th>\n",
       "      <th>geo__latitude</th>\n",
       "      <th>geo__longitude</th>\n",
       "      <th>city_id</th>\n",
       "      <th>ugc_rating__location__review_score</th>\n",
       "    </tr>\n",
       "  </thead>\n",
       "  <tbody>\n",
       "    <tr>\n",
       "      <th>0</th>\n",
       "      <td>BNB</td>\n",
       "      <td>1000515</td>\n",
       "      <td>Moscow</td>\n",
       "      <td>55.80085</td>\n",
       "      <td>37.63705</td>\n",
       "      <td>ChIJybDUc_xKtUYRTM9XV8zWRD0</td>\n",
       "      <td>9.4</td>\n",
       "    </tr>\n",
       "    <tr>\n",
       "      <th>1</th>\n",
       "      <td>BNB</td>\n",
       "      <td>10083156</td>\n",
       "      <td>Bengaluru</td>\n",
       "      <td>12.93379</td>\n",
       "      <td>77.62675</td>\n",
       "      <td>ChIJbU60yXAWrjsR4E9-UejD3_g</td>\n",
       "      <td>9.6</td>\n",
       "    </tr>\n",
       "    <tr>\n",
       "      <th>2</th>\n",
       "      <td>BNB</td>\n",
       "      <td>10127631</td>\n",
       "      <td>Ubud</td>\n",
       "      <td>-8.54990</td>\n",
       "      <td>115.25826</td>\n",
       "      <td>ChIJoQ8Q6NNB0S0RkOYkS7EPkSQ</td>\n",
       "      <td>9.0</td>\n",
       "    </tr>\n",
       "    <tr>\n",
       "      <th>3</th>\n",
       "      <td>BNB</td>\n",
       "      <td>10624178</td>\n",
       "      <td>Kissimmee</td>\n",
       "      <td>28.29887</td>\n",
       "      <td>-81.46855</td>\n",
       "      <td>ChIJ5wsVNxqE3YgRDcL9EZfN55Q</td>\n",
       "      <td>9.8</td>\n",
       "    </tr>\n",
       "    <tr>\n",
       "      <th>4</th>\n",
       "      <td>BNB</td>\n",
       "      <td>107051</td>\n",
       "      <td>Central London Narrowboat</td>\n",
       "      <td>51.52116</td>\n",
       "      <td>-0.18359</td>\n",
       "      <td>ChIJdd4hrwug2EcRmSrV3Vo6llI</td>\n",
       "      <td>10.0</td>\n",
       "    </tr>\n",
       "    <tr>\n",
       "      <th>5</th>\n",
       "      <td>BNB</td>\n",
       "      <td>10761585</td>\n",
       "      <td>Ilford</td>\n",
       "      <td>51.57554</td>\n",
       "      <td>0.06030</td>\n",
       "      <td>ChIJdd4hrwug2EcRmSrV3Vo6llI</td>\n",
       "      <td>9.0</td>\n",
       "    </tr>\n",
       "    <tr>\n",
       "      <th>6</th>\n",
       "      <td>BNB</td>\n",
       "      <td>10911970</td>\n",
       "      <td>Shimla</td>\n",
       "      <td>31.10180</td>\n",
       "      <td>77.19645</td>\n",
       "      <td>ChIJZ25d4-N4BTkRt1Sf__Z_fh8</td>\n",
       "      <td>8.2</td>\n",
       "    </tr>\n",
       "    <tr>\n",
       "      <th>7</th>\n",
       "      <td>BNB</td>\n",
       "      <td>10994504</td>\n",
       "      <td>Ernakulam</td>\n",
       "      <td>9.99666</td>\n",
       "      <td>76.30351</td>\n",
       "      <td>ChIJv8a-SlENCDsRkkGEpcqC1Qs</td>\n",
       "      <td>9.4</td>\n",
       "    </tr>\n",
       "    <tr>\n",
       "      <th>8</th>\n",
       "      <td>BNB</td>\n",
       "      <td>11093506</td>\n",
       "      <td>Madikeri</td>\n",
       "      <td>12.42108</td>\n",
       "      <td>75.74191</td>\n",
       "      <td>ChIJa-ELPqKqpTsRcKOeNYIf_VA</td>\n",
       "      <td>9.6</td>\n",
       "    </tr>\n",
       "    <tr>\n",
       "      <th>9</th>\n",
       "      <td>BNB</td>\n",
       "      <td>11647182</td>\n",
       "      <td>Kuta Utara</td>\n",
       "      <td>-8.66196</td>\n",
       "      <td>115.13644</td>\n",
       "      <td>ChIJoQ8Q6NNB0S0RkOYkS7EPkSQ</td>\n",
       "      <td>9.0</td>\n",
       "    </tr>\n",
       "  </tbody>\n",
       "</table>\n",
       "</div>"
      ],
      "text/plain": [
       "  vendor  hotel_id                  city_name  geo__latitude  geo__longitude  \\\n",
       "0    BNB   1000515                     Moscow       55.80085        37.63705   \n",
       "1    BNB  10083156                  Bengaluru       12.93379        77.62675   \n",
       "2    BNB  10127631                       Ubud       -8.54990       115.25826   \n",
       "3    BNB  10624178                  Kissimmee       28.29887       -81.46855   \n",
       "4    BNB    107051  Central London Narrowboat       51.52116        -0.18359   \n",
       "5    BNB  10761585                     Ilford       51.57554         0.06030   \n",
       "6    BNB  10911970                     Shimla       31.10180        77.19645   \n",
       "7    BNB  10994504                  Ernakulam        9.99666        76.30351   \n",
       "8    BNB  11093506                   Madikeri       12.42108        75.74191   \n",
       "9    BNB  11647182                 Kuta Utara       -8.66196       115.13644   \n",
       "\n",
       "                       city_id  ugc_rating__location__review_score  \n",
       "0  ChIJybDUc_xKtUYRTM9XV8zWRD0                                 9.4  \n",
       "1  ChIJbU60yXAWrjsR4E9-UejD3_g                                 9.6  \n",
       "2  ChIJoQ8Q6NNB0S0RkOYkS7EPkSQ                                 9.0  \n",
       "3  ChIJ5wsVNxqE3YgRDcL9EZfN55Q                                 9.8  \n",
       "4  ChIJdd4hrwug2EcRmSrV3Vo6llI                                10.0  \n",
       "5  ChIJdd4hrwug2EcRmSrV3Vo6llI                                 9.0  \n",
       "6  ChIJZ25d4-N4BTkRt1Sf__Z_fh8                                 8.2  \n",
       "7  ChIJv8a-SlENCDsRkkGEpcqC1Qs                                 9.4  \n",
       "8  ChIJa-ELPqKqpTsRcKOeNYIf_VA                                 9.6  \n",
       "9  ChIJoQ8Q6NNB0S0RkOYkS7EPkSQ                                 9.0  "
      ]
     },
     "execution_count": 89,
     "metadata": {},
     "output_type": "execute_result"
    }
   ],
   "source": [
    "df.head(10)"
   ]
  },
  {
   "cell_type": "code",
   "execution_count": 102,
   "metadata": {},
   "outputs": [],
   "source": [
    "def create_geojson(df, city):\n",
    "    df_plot = df.query(f\"city_name == '{city}'\")\n",
    "    feature_list = []\n",
    "    for index, row in df_plot.iterrows(): \n",
    "        feature_list.append(Feature(geometry=Point((row['geo__longitude'], row['geo__latitude'])), properties={\"prop0\": {\"mag\": row['ugc_rating__location__review_score']}}))\n",
    "    feature_collection = FeatureCollection(feature_list)\n",
    "    return feature_collection"
   ]
  },
  {
   "cell_type": "code",
   "execution_count": 103,
   "metadata": {},
   "outputs": [],
   "source": [
    "geojson = create_geojson(df, 'Bengaluru')"
   ]
  },
  {
   "cell_type": "code",
   "execution_count": 104,
   "metadata": {},
   "outputs": [
    {
     "data": {
      "text/plain": [
       "{\"features\": [{\"geometry\": {\"coordinates\": [77.62675, 12.93379], \"type\": \"Point\"}, \"properties\": {\"prop0\": {\"mag\": 9.6}}, \"type\": \"Feature\"}, {\"geometry\": {\"coordinates\": [77.6199, 12.89456], \"type\": \"Point\"}, \"properties\": {\"prop0\": {\"mag\": 8.2}}, \"type\": \"Feature\"}, {\"geometry\": {\"coordinates\": [77.63325, 13.06097], \"type\": \"Point\"}, \"properties\": {\"prop0\": {\"mag\": 8.4}}, \"type\": \"Feature\"}, {\"geometry\": {\"coordinates\": [77.57735, 13.04854], \"type\": \"Point\"}, \"properties\": {\"prop0\": {\"mag\": 9.2}}, \"type\": \"Feature\"}, {\"geometry\": {\"coordinates\": [77.63294, 13.06104], \"type\": \"Point\"}, \"properties\": {\"prop0\": {\"mag\": 8.4}}, \"type\": \"Feature\"}, {\"geometry\": {\"coordinates\": [77.63692, 12.97685], \"type\": \"Point\"}, \"properties\": {\"prop0\": {\"mag\": 10.0}}, \"type\": \"Feature\"}, {\"geometry\": {\"coordinates\": [77.55489, 12.879], \"type\": \"Point\"}, \"properties\": {\"prop0\": {\"mag\": 9.2}}, \"type\": \"Feature\"}, {\"geometry\": {\"coordinates\": [77.6041, 12.90139], \"type\": \"Point\"}, \"properties\": {\"prop0\": {\"mag\": 8.0}}, \"type\": \"Feature\"}, {\"geometry\": {\"coordinates\": [77.59214, 13.02368], \"type\": \"Point\"}, \"properties\": {\"prop0\": {\"mag\": 9.8}}, \"type\": \"Feature\"}, {\"geometry\": {\"coordinates\": [77.62031, 12.89573], \"type\": \"Point\"}, \"properties\": {\"prop0\": {\"mag\": 9.2}}, \"type\": \"Feature\"}, {\"geometry\": {\"coordinates\": [77.56818, 13.0079], \"type\": \"Point\"}, \"properties\": {\"prop0\": {\"mag\": 9.4}}, \"type\": \"Feature\"}, {\"geometry\": {\"coordinates\": [77.58621, 13.05747], \"type\": \"Point\"}, \"properties\": {\"prop0\": {\"mag\": 9.4}}, \"type\": \"Feature\"}, {\"geometry\": {\"coordinates\": [77.62942, 12.92968], \"type\": \"Point\"}, \"properties\": {\"prop0\": {\"mag\": 9.8}}, \"type\": \"Feature\"}, {\"geometry\": {\"coordinates\": [77.59668, 12.95869], \"type\": \"Point\"}, \"properties\": {\"prop0\": {\"mag\": 9.6}}, \"type\": \"Feature\"}, {\"geometry\": {\"coordinates\": [77.63532, 12.97775], \"type\": \"Point\"}, \"properties\": {\"prop0\": {\"mag\": 9.8}}, \"type\": \"Feature\"}, {\"geometry\": {\"coordinates\": [77.62733, 12.92484], \"type\": \"Point\"}, \"properties\": {\"prop0\": {\"mag\": 9.4}}, \"type\": \"Feature\"}, {\"geometry\": {\"coordinates\": [77.80006, 12.84478], \"type\": \"Point\"}, \"properties\": {\"prop0\": {\"mag\": 9.2}}, \"type\": \"Feature\"}, {\"geometry\": {\"coordinates\": [77.60368, 12.96302], \"type\": \"Point\"}, \"properties\": {\"prop0\": {\"mag\": 9.6}}, \"type\": \"Feature\"}, {\"geometry\": {\"coordinates\": [77.60404, 12.91066], \"type\": \"Point\"}, \"properties\": {\"prop0\": {\"mag\": 9.4}}, \"type\": \"Feature\"}, {\"geometry\": {\"coordinates\": [77.61746, 12.93399], \"type\": \"Point\"}, \"properties\": {\"prop0\": {\"mag\": 9.6}}, \"type\": \"Feature\"}, {\"geometry\": {\"coordinates\": [77.61653, 12.93493], \"type\": \"Point\"}, \"properties\": {\"prop0\": {\"mag\": 9.4}}, \"type\": \"Feature\"}, {\"geometry\": {\"coordinates\": [77.61743, 12.93404], \"type\": \"Point\"}, \"properties\": {\"prop0\": {\"mag\": 9.6}}, \"type\": \"Feature\"}, {\"geometry\": {\"coordinates\": [77.62575, 13.00159], \"type\": \"Point\"}, \"properties\": {\"prop0\": {\"mag\": 9.6}}, \"type\": \"Feature\"}, {\"geometry\": {\"coordinates\": [77.62009, 12.93625], \"type\": \"Point\"}, \"properties\": {\"prop0\": {\"mag\": 9.8}}, \"type\": \"Feature\"}, {\"geometry\": {\"coordinates\": [77.7266, 12.91834], \"type\": \"Point\"}, \"properties\": {\"prop0\": {\"mag\": 9.2}}, \"type\": \"Feature\"}, {\"geometry\": {\"coordinates\": [77.65075, 12.84169], \"type\": \"Point\"}, \"properties\": {\"prop0\": {\"mag\": 10.0}}, \"type\": \"Feature\"}, {\"geometry\": {\"coordinates\": [77.68507, 13.01377], \"type\": \"Point\"}, \"properties\": {\"prop0\": {\"mag\": 8.8}}, \"type\": \"Feature\"}, {\"geometry\": {\"coordinates\": [77.68471, 13.01419], \"type\": \"Point\"}, \"properties\": {\"prop0\": {\"mag\": 9.0}}, \"type\": \"Feature\"}, {\"geometry\": {\"coordinates\": [77.61468, 12.9115], \"type\": \"Point\"}, \"properties\": {\"prop0\": {\"mag\": 9.4}}, \"type\": \"Feature\"}, {\"geometry\": {\"coordinates\": [77.61438, 12.90959], \"type\": \"Point\"}, \"properties\": {\"prop0\": {\"mag\": 8.6}}, \"type\": \"Feature\"}, {\"geometry\": {\"coordinates\": [77.64899, 12.95469], \"type\": \"Point\"}, \"properties\": {\"prop0\": {\"mag\": 9.4}}, \"type\": \"Feature\"}, {\"geometry\": {\"coordinates\": [77.60862, 12.93362], \"type\": \"Point\"}, \"properties\": {\"prop0\": {\"mag\": 8.8}}, \"type\": \"Feature\"}, {\"geometry\": {\"coordinates\": [77.56369, 12.92827], \"type\": \"Point\"}, \"properties\": {\"prop0\": {\"mag\": 9.4}}, \"type\": \"Feature\"}, {\"geometry\": {\"coordinates\": [77.62997, 12.92897], \"type\": \"Point\"}, \"properties\": {\"prop0\": {\"mag\": 9.8}}, \"type\": \"Feature\"}, {\"geometry\": {\"coordinates\": [77.59678, 12.95844], \"type\": \"Point\"}, \"properties\": {\"prop0\": {\"mag\": 9.6}}, \"type\": \"Feature\"}], \"type\": \"FeatureCollection\"}"
      ]
     },
     "execution_count": 104,
     "metadata": {},
     "output_type": "execute_result"
    }
   ],
   "source": [
    "geojson"
   ]
  },
  {
   "cell_type": "code",
   "execution_count": 105,
   "metadata": {},
   "outputs": [
    {
     "data": {
      "text/html": [
       "<div style=\"width:100%;\"><div style=\"position:relative;width:100%;height:0;padding-bottom:60%;\"><span style=\"color:#565656\">Make this Notebook Trusted to load map: File -> Trust Notebook</span><iframe src=\"about:blank\" style=\"position:absolute;width:100%;height:100%;left:0;top:0;border:none !important;\" data-html=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 onload=\"this.contentDocument.open();this.contentDocument.write(atob(this.getAttribute('data-html')));this.contentDocument.close();\" allowfullscreen webkitallowfullscreen mozallowfullscreen></iframe></div></div>"
      ],
      "text/plain": [
       "<folium.folium.Map at 0x2ab4dfeb358>"
      ]
     },
     "execution_count": 105,
     "metadata": {},
     "output_type": "execute_result"
    }
   ],
   "source": [
    "m = folium.Map(location=[12.9716, 77.5946])\n",
    "folium.GeoJson(geojson, name='ugc-rating').add_to(m)\n",
    "m"
   ]
  },
  {
   "cell_type": "code",
   "execution_count": null,
   "metadata": {},
   "outputs": [],
   "source": []
  }
 ],
 "metadata": {
  "kernelspec": {
   "display_name": "PyplotKernel",
   "language": "python",
   "name": "pyplotkernel"
  },
  "language_info": {
   "codemirror_mode": {
    "name": "ipython",
    "version": 3
   },
   "file_extension": ".py",
   "mimetype": "text/x-python",
   "name": "python",
   "nbconvert_exporter": "python",
   "pygments_lexer": "ipython3",
   "version": "3.6.12"
  }
 },
 "nbformat": 4,
 "nbformat_minor": 2
}
